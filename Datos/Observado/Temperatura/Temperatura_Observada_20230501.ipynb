{
  "cells": [
    {
      "cell_type": "markdown",
      "metadata": {
        "id": "view-in-github",
        "colab_type": "text"
      },
      "source": [
        "<a href=\"https://colab.research.google.com/github/yirlenarias/TFG_PD/blob/main/Datos/Observado/Temperatura/Temperatura_Observada_20230501.ipynb\" target=\"_parent\"><img src=\"https://colab.research.google.com/assets/colab-badge.svg\" alt=\"Open In Colab\"/></a>"
      ]
    },
    {
      "cell_type": "markdown",
      "id": "a4dabef8",
      "metadata": {
        "id": "a4dabef8"
      },
      "source": [
        "# Climatología de Temperatura Observada"
      ]
    },
    {
      "cell_type": "markdown",
      "source": [
        "* Para trabajar más cómodamente vamos a descargar todos los ficheros del repositorio GitHub\n",
        "* De esa manera dispondremos de los datos localmente para nuestro análisis."
      ],
      "metadata": {
        "id": "bO0QBfWpX59a"
      },
      "id": "bO0QBfWpX59a"
    },
    {
      "cell_type": "code",
      "source": [
        "# Directorio de trabajo local en la nube de Google Colab \n",
        "# ------------------------------------------------------------\n",
        "%cd /content\n",
        "\n",
        "# Si existe una copia previa del repositorio, la borramos:\n",
        "# ----------------------------------------------------------------------------\n",
        "!  rm -rf TFG_PD\n",
        "\n",
        "# Creamos una copia del repositorio SOLO si no existe previamente\n",
        "# ----------------------------------------------------------------------------\n",
        "! [ ! -d TFG_PD ] && git clone https://github.com/yirlenarias/TFG_PD.git\n",
        "\n",
        "# Entramos en el repositorio que acabamos de copiar\n",
        "# --------------------------------------------------\n",
        "%cd TFG_PD/Datos/Observado/Temperatura"
      ],
      "metadata": {
        "id": "aO0fR0bIXrXL"
      },
      "id": "aO0fR0bIXrXL",
      "execution_count": null,
      "outputs": []
    },
    {
      "cell_type": "markdown",
      "id": "71290771",
      "metadata": {
        "id": "71290771"
      },
      "source": [
        "## Importar librerias"
      ]
    },
    {
      "cell_type": "code",
      "execution_count": null,
      "id": "159e7b6b",
      "metadata": {
        "id": "159e7b6b"
      },
      "outputs": [],
      "source": [
        "import glob\n",
        "import pandas as pd\n",
        "import numpy as np"
      ]
    },
    {
      "cell_type": "markdown",
      "id": "0a0ce098",
      "metadata": {
        "id": "0a0ce098"
      },
      "source": [
        "## Abrir todos los archivos excel por cuenca"
      ]
    },
    {
      "cell_type": "code",
      "execution_count": null,
      "id": "ba9f31dc",
      "metadata": {
        "id": "ba9f31dc"
      },
      "outputs": [],
      "source": [
        "# Criterios de coincidencia de patrones para archivos de Excel en el directorio\n",
        "filenames = 'Cuenca*.xlsx'"
      ]
    },
    {
      "cell_type": "code",
      "execution_count": null,
      "id": "b827e4b0",
      "metadata": {
        "id": "b827e4b0"
      },
      "outputs": [],
      "source": [
        "# Crea un diccionario vacío para almacenar los datos de cada archivo\n",
        "dat = {}\n",
        "\n",
        "# Recorra cada archivo de Excel que coincida con el patrón y lea sus datos en un marco de datos de pandas\n",
        "for file in sorted(glob.glob(filenames)):\n",
        "    dat[file] = pd.read_excel(file)"
      ]
    },
    {
      "cell_type": "code",
      "execution_count": null,
      "id": "6f7e6c15",
      "metadata": {
        "id": "6f7e6c15"
      },
      "outputs": [],
      "source": [
        "data_new = []\n",
        "\n",
        "for file, data in dat.items():\n",
        "    data_new.append(data)"
      ]
    },
    {
      "cell_type": "code",
      "execution_count": null,
      "id": "d215eaf4",
      "metadata": {
        "id": "d215eaf4"
      },
      "outputs": [],
      "source": [
        "# Definir una función para aplicar a los datos y en la columna 'ESTACION' todos los valores tengan 3 digitos\n",
        "for i, df in enumerate(data_new):\n",
        "    def formatear_valor(valor):\n",
        "        if valor < 10:\n",
        "            return '00' + str(valor)\n",
        "        elif valor < 100:\n",
        "            return '0' + str(valor)\n",
        "        else:\n",
        "            return str(valor)\n",
        "\n",
        "    # Aplicar la función a la tabla\n",
        "    data_new[i]['ESTACION'] = data_new[i]['ESTACION'].apply(formatear_valor)"
      ]
    },
    {
      "cell_type": "markdown",
      "id": "86f8fcd5",
      "metadata": {
        "id": "86f8fcd5"
      },
      "source": [
        "## Arreglar datos"
      ]
    },
    {
      "cell_type": "code",
      "execution_count": null,
      "id": "c15a5475",
      "metadata": {
        "id": "c15a5475"
      },
      "outputs": [],
      "source": [
        "#Unir el numero de 'CUENCA' con 'ESTACION' para tener el numero de cada estacion\n",
        "for i, df in enumerate(data_new):\n",
        "    data_new[i]['ESTACION_NEW'] = data_new[i]['CUENCA'].astype(str) + data_new[i]['ESTACION'].astype(str)"
      ]
    },
    {
      "cell_type": "code",
      "execution_count": null,
      "id": "13e68e77",
      "metadata": {
        "id": "13e68e77"
      },
      "outputs": [],
      "source": [
        "#Eliminar las columnas que no son necesarias\n",
        "for i, df in enumerate(data_new):\n",
        "    data_new[i].pop('CUENCA')\n",
        "    data_new[i].pop('ESTACION')"
      ]
    },
    {
      "cell_type": "markdown",
      "id": "8465f9b8",
      "metadata": {
        "id": "8465f9b8"
      },
      "source": [
        "## Agrupar datos por estación"
      ]
    },
    {
      "cell_type": "code",
      "execution_count": null,
      "id": "87ff882b",
      "metadata": {
        "id": "87ff882b"
      },
      "outputs": [],
      "source": [
        "# Agrupar las filas según los valores de la columna \"ESTACION_NEW\"\n",
        "my_list = list(range(0, 22))\n",
        "porestacion=[]\n",
        "for i in my_list:\n",
        "    grupos = data_new[i].groupby('ESTACION_NEW')\n",
        "\n",
        "    # Crear una tabla separada para cada grupo segun 'ESTACION_NEW'\n",
        "    for ESTACION, grupo in grupos:\n",
        "        # Obtener el DataFrame correspondiente a cada grupo\n",
        "        tabla = grupos.get_group(ESTACION)\n",
        "        porestacion.append(tabla) #Adjuntar los valores"
      ]
    },
    {
      "cell_type": "markdown",
      "id": "5b8ed731",
      "metadata": {
        "id": "5b8ed731"
      },
      "source": [
        "* Obtener el número de cada estación"
      ]
    },
    {
      "cell_type": "code",
      "execution_count": null,
      "id": "b62f230e",
      "metadata": {
        "id": "b62f230e"
      },
      "outputs": [],
      "source": [
        "NUMERO = porestacion.copy()\n",
        "for i, df in enumerate(NUMERO):\n",
        "    NUMERO[i] = NUMERO[i].iloc[0,3]"
      ]
    },
    {
      "cell_type": "markdown",
      "id": "ad172c08",
      "metadata": {
        "id": "ad172c08"
      },
      "source": [
        "## Guardar un archivo por cada estación"
      ]
    },
    {
      "cell_type": "code",
      "execution_count": null,
      "id": "77cffe52",
      "metadata": {
        "id": "77cffe52"
      },
      "outputs": [],
      "source": [
        "# Comprimimos los archivos en un archivo ZIP\n",
        "with zipfile.ZipFile('archivos_excel.zip', 'w') as zip_file:\n",
        "\n",
        "    # Iteramos sobre las tablas y los nombres de archivos\n",
        "    for tabla, nombre_archivo in zip(porestacion, NUMERO):\n",
        "\n",
        "        # Agregamos la extensión .xlsx al nombre del archivo\n",
        "        nombre_archivo += '.xlsx'\n",
        "\n",
        "        # Guardamos la tabla en un archivo Excel con el nombre correspondiente\n",
        "        tabla.to_excel(nombre_archivo, index=False)\n",
        "\n",
        "        # Agregamos el archivo al archivo ZIP\n",
        "        zip_file.write(nombre_archivo)\n",
        "\n",
        "        # Borramos el archivo Excel\n",
        "        os.remove(nombre_archivo)"
      ]
    },
    {
      "cell_type": "markdown",
      "id": "c005243a",
      "metadata": {
        "id": "c005243a"
      },
      "source": [
        "## Obtener fecha inicial y final de cada estación"
      ]
    },
    {
      "cell_type": "code",
      "execution_count": null,
      "id": "99a2df1e",
      "metadata": {
        "id": "99a2df1e"
      },
      "outputs": [],
      "source": [
        "for i, df in enumerate(porestacion):\n",
        "    porestacion[i] = porestacion[i].set_index('FECHA')"
      ]
    },
    {
      "cell_type": "code",
      "execution_count": null,
      "id": "969d3edd",
      "metadata": {
        "id": "969d3edd"
      },
      "outputs": [],
      "source": [
        "# Encontrar los valores de inicio y final de las fechas\n",
        "my_list = list(range(0, 154))\n",
        "porestacion_new=[]\n",
        "for i in my_list:\n",
        "    fecha_inicial = porestacion[i].index.min()\n",
        "    fecha_final = porestacion[i].index.max()\n",
        "    name = NUMERO[i]\n",
        "    porestacion_new.append((fecha_inicial,fecha_final, name))"
      ]
    },
    {
      "cell_type": "markdown",
      "id": "eda55a60",
      "metadata": {
        "id": "eda55a60"
      },
      "source": [
        "* Guardar el rango de fechas en un archivo .txt"
      ]
    },
    {
      "cell_type": "code",
      "execution_count": null,
      "id": "8cd2db21",
      "metadata": {
        "id": "8cd2db21"
      },
      "outputs": [],
      "source": [
        "# Abrir el archivo en modo escritura\n",
        "with open(\"rango_fechas.txt\", \"w\") as archivo:\n",
        "    # Escribir la lista en el archivo\n",
        "    for valor in porestacion_new:\n",
        "        archivo.write(str(valor) + \"\\n\")"
      ]
    },
    {
      "cell_type": "markdown",
      "id": "97e88fd5",
      "metadata": {
        "id": "97e88fd5"
      },
      "source": [
        "## Obtener los estadisticos"
      ]
    },
    {
      "cell_type": "code",
      "execution_count": null,
      "id": "507beb07",
      "metadata": {
        "id": "507beb07"
      },
      "outputs": [],
      "source": [
        "#Eliminar las columnas que no se necesitan\n",
        "for i, df in enumerate(porestacion):\n",
        "    porestacion[i].pop('ESTACION_NEW')"
      ]
    },
    {
      "cell_type": "markdown",
      "id": "df7b0ed0",
      "metadata": {
        "id": "df7b0ed0"
      },
      "source": [
        "* Separar los datos por temperatura maxima, minima y promedio"
      ]
    },
    {
      "cell_type": "code",
      "execution_count": null,
      "id": "9c4e166c",
      "metadata": {
        "id": "9c4e166c"
      },
      "outputs": [],
      "source": [
        "TempMAX=[]\n",
        "TempMIN=[]\n",
        "\n",
        "for tabla in porestacion:\n",
        "    columna1 = tabla.iloc[:, 0]\n",
        "    columna2 = tabla.iloc[:, 1]\n",
        "    TempMAX.append(columna1)\n",
        "    TempMIN.append(columna2)"
      ]
    },
    {
      "cell_type": "code",
      "execution_count": null,
      "id": "c0cdc04f",
      "metadata": {
        "id": "c0cdc04f",
        "outputId": "b2f56b90-2b64-4b3c-bb10-dd89df7fbcfa"
      },
      "outputs": [
        {
          "data": {
            "text/plain": [
              "pandas.core.series.Series"
            ]
          },
          "execution_count": 268,
          "metadata": {},
          "output_type": "execute_result"
        }
      ],
      "source": [
        "type(TempMAX[0])"
      ]
    },
    {
      "cell_type": "markdown",
      "id": "6118d4af",
      "metadata": {
        "id": "6118d4af"
      },
      "source": [
        "* Crear una lista de las temperaturas Maxima, Minima y Promedio\n",
        "* Los siguientes pasos se reliazan de la forma larga ya que cada estación no tiene el mismo rango de años"
      ]
    },
    {
      "cell_type": "code",
      "execution_count": null,
      "id": "1dd63f61",
      "metadata": {
        "id": "1dd63f61"
      },
      "outputs": [],
      "source": [
        "#Crear una lista vacía llamada lista_de_listas_de_tablas\n",
        "lista_de_listas_de_tablas = []\n",
        "\n",
        "# Agregar las dos listas de tablas a la lista_de_listas_de_tablas\n",
        "lista_de_listas_de_tablas.append(TempMAX)\n",
        "lista_de_listas_de_tablas.append(TempMIN)"
      ]
    },
    {
      "cell_type": "markdown",
      "id": "bd351034",
      "metadata": {
        "id": "bd351034"
      },
      "source": [
        "* Obtener los estadisticos mean, max y min, de cada T(prom, max, min) y cada estación"
      ]
    },
    {
      "cell_type": "code",
      "execution_count": null,
      "id": "24c18826",
      "metadata": {
        "id": "24c18826"
      },
      "outputs": [],
      "source": [
        "# Creamos una lista vacía para almacenar los resultados\n",
        "lista_resultados = []\n",
        "\n",
        "# Iteramos a través de cada lista en la lista de listas de tablas\n",
        "for lista_tablas in lista_de_listas_de_tablas:\n",
        "    # Creamos una lista vacía para almacenar los resultados de esta lista de tablas\n",
        "    lista_resultados_tablas = []\n",
        "    # Iteramos a través de cada tabla en la lista de tablas\n",
        "    for tabla in lista_tablas:\n",
        "        # Agrupamos los datos por día y mes y calculamos la media, el máximo y el mínimo\n",
        "        tabla_agrupada = tabla.groupby(tabla.index.strftime(\"%m%d\")).agg(['mean', 'max', 'min'])\n",
        "        # Agregamos la tabla agrupada a la lista de resultados para esta lista de tablas\n",
        "        lista_resultados_tablas.append(tabla_agrupada)\n",
        "    # Agregamos la lista de resultados para esta lista de tablas a la lista de resultados general\n",
        "    lista_resultados.append(lista_resultados_tablas)"
      ]
    },
    {
      "cell_type": "markdown",
      "id": "844c7477",
      "metadata": {
        "id": "844c7477"
      },
      "source": [
        "* Ahora separamos los datos, cada columna la convertimos en una tabla diferente\n",
        "* Ejemplo de la columna mean saldran 3 tablas (mean.prom, mean.max y mean.min)"
      ]
    },
    {
      "cell_type": "code",
      "execution_count": null,
      "id": "670ef908",
      "metadata": {
        "id": "670ef908"
      },
      "outputs": [],
      "source": [
        "# Lista de columnas a procesar\n",
        "columnas = ['mean', 'max', 'min']\n",
        "\n",
        "# Lista de listas de tablas vacía para cada columna\n",
        "lista_nueva = [[] for i in range(len(columnas))]\n",
        "\n",
        "# Bucle para iterar sobre cada columna\n",
        "for i, col in enumerate(columnas):\n",
        "    # Lista de listas de tablas vacía para la columna actual\n",
        "    lista_col = []\n",
        "    # Bucle para iterar sobre cada tabla de la lista original\n",
        "    for lista_tablas in lista_resultados:\n",
        "        # Lista de tablas vacía para la tabla actual\n",
        "        lista_tabla_nueva = []\n",
        "        # Bucle para iterar sobre cada tabla de la lista original\n",
        "        for tabla in lista_tablas:\n",
        "            # Selección de la columna actual y creación de una nueva tabla\n",
        "            tabla_nueva = tabla[[col]]\n",
        "            # Agregar la nueva tabla a la lista de tablas para la tabla actual\n",
        "            lista_tabla_nueva.append(tabla_nueva)\n",
        "        # Agregar la lista de tablas para la tabla actual a la lista de listas de tablas para la columna actual\n",
        "        lista_col.append(lista_tabla_nueva)\n",
        "    # Agregar la lista de listas de tablas para la columna actual a la lista de listas de tablas para todas las columnas\n",
        "    lista_nueva[i] = lista_col"
      ]
    },
    {
      "cell_type": "markdown",
      "id": "20b73593",
      "metadata": {
        "id": "20b73593"
      },
      "source": [
        "* Se selecciona solo la columna que necesitamos, para que la fecha no cause problemas"
      ]
    },
    {
      "cell_type": "code",
      "execution_count": null,
      "id": "680a9b91",
      "metadata": {
        "id": "680a9b91"
      },
      "outputs": [],
      "source": [
        "# Iterar sobre cada lista en la lista principal\n",
        "lista_de_listas_de_columnas = []\n",
        "for lista_de_tablas in lista_nueva:\n",
        "    listas_de_columnas = []\n",
        "    for lista in lista_de_tablas:\n",
        "        columnas = []\n",
        "        for tabla in lista:\n",
        "            df = tabla.iloc[:, 0]\n",
        "            columnas.append(df)\n",
        "        listas_de_columnas.append(columnas)\n",
        "    lista_de_listas_de_columnas.append(listas_de_columnas)"
      ]
    },
    {
      "cell_type": "markdown",
      "id": "4342bb04",
      "metadata": {
        "id": "4342bb04"
      },
      "source": [
        "* Volvemos un dataframe cada estadistico.T(prom, max, min) y luego transponemos cada dataframe"
      ]
    },
    {
      "cell_type": "code",
      "execution_count": null,
      "id": "62faeed3",
      "metadata": {
        "id": "62faeed3"
      },
      "outputs": [],
      "source": [
        "# Creamos una lista vacía para almacenar los nuevos DataFrames\n",
        "lista_de_dataframes = []\n",
        "\n",
        "# Recorremos cada lista en la lista de listas de listas de tablas\n",
        "for lista_de_listas_de_tablas in lista_de_listas_de_columnas:\n",
        "    \n",
        "    # Creamos una lista vacía para almacenar los nuevos DataFrames de esta lista\n",
        "    lista_de_dataframes_de_esta_lista = []\n",
        "    \n",
        "    # Recorremos cada tabla dentro de cada lista\n",
        "    for tabla in lista_de_listas_de_tablas:\n",
        "        \n",
        "        # Convertimos la tabla en un DataFrame y la transponemos\n",
        "        df = pd.DataFrame(tabla).transpose()\n",
        "        \n",
        "        # Agregamos el nuevo DataFrame a la lista de DataFrames de esta lista\n",
        "        lista_de_dataframes_de_esta_lista.append(df)\n",
        "    \n",
        "    # Agregamos la lista de DataFrames de esta lista a la lista general\n",
        "    lista_de_dataframes.append(lista_de_dataframes_de_esta_lista)"
      ]
    },
    {
      "cell_type": "markdown",
      "id": "daded681",
      "metadata": {
        "id": "daded681"
      },
      "source": [
        "* Renombrar las columnas"
      ]
    },
    {
      "cell_type": "code",
      "execution_count": null,
      "id": "2baab557",
      "metadata": {
        "id": "2baab557"
      },
      "outputs": [],
      "source": [
        "# Cambiar los nombres de las columnas en cada DataFrame\n",
        "for lista in lista_de_dataframes:\n",
        "    for df in lista:\n",
        "        df.columns = NUMERO"
      ]
    },
    {
      "cell_type": "markdown",
      "id": "8581805f",
      "metadata": {
        "id": "8581805f"
      },
      "source": [
        "## Guardar estadisticos en excel"
      ]
    },
    {
      "cell_type": "code",
      "execution_count": null,
      "id": "04504d96",
      "metadata": {
        "id": "04504d96"
      },
      "outputs": [],
      "source": [
        "# Crear el objeto ExcelWriter\n",
        "writer = pd.ExcelWriter('Climatologia_Diaria_Observada_Temperatura_20230429.xlsx', engine='xlsxwriter')\n",
        "\n",
        "# Escribir los DataFrames en diferentes hojas\n",
        "lista_de_dataframes[0][0].to_excel(writer, sheet_name='mean_tmax', index=True)\n",
        "lista_de_dataframes[1][0].to_excel(writer, sheet_name='max_tmax', index=True)\n",
        "lista_de_dataframes[2][0].to_excel(writer, sheet_name='min_tmax', index=True)\n",
        "lista_de_dataframes[0][1].to_excel(writer, sheet_name='mean_tmin', index=True)\n",
        "lista_de_dataframes[1][1].to_excel(writer, sheet_name='max_tmin', index=True)\n",
        "lista_de_dataframes[2][1].to_excel(writer, sheet_name='min_tmin', index=True)\n",
        "\n",
        "# Guardar el archivo Excel\n",
        "writer.save()"
      ]
    },
    {
      "cell_type": "markdown",
      "id": "90d3f97f",
      "metadata": {
        "id": "90d3f97f"
      },
      "source": [
        "## Abrir lista de estaciones"
      ]
    },
    {
      "cell_type": "code",
      "execution_count": null,
      "id": "d1a567a8",
      "metadata": {
        "id": "d1a567a8"
      },
      "outputs": [],
      "source": [
        "#Cargar la lista de estaciones que contienen el rango de fechas\n",
        "estaciones = pd.read_excel(r'/Users/arias/OneDrive/Documentos/UCR/TFG/Datos/Observada/Temperatura/Lista de estaciones.xlsx')"
      ]
    },
    {
      "cell_type": "code",
      "execution_count": null,
      "id": "96230141",
      "metadata": {
        "id": "96230141",
        "outputId": "2c4c35b6-6ad4-4bad-cd2a-813d2d4d25be"
      },
      "outputs": [
        {
          "data": {
            "text/html": [
              "<div>\n",
              "<style scoped>\n",
              "    .dataframe tbody tr th:only-of-type {\n",
              "        vertical-align: middle;\n",
              "    }\n",
              "\n",
              "    .dataframe tbody tr th {\n",
              "        vertical-align: top;\n",
              "    }\n",
              "\n",
              "    .dataframe thead th {\n",
              "        text-align: right;\n",
              "    }\n",
              "</style>\n",
              "<table border=\"1\" class=\"dataframe\">\n",
              "  <thead>\n",
              "    <tr style=\"text-align: right;\">\n",
              "      <th></th>\n",
              "      <th>NUMERO</th>\n",
              "      <th>NOMBRE</th>\n",
              "      <th>LATITUD NORTE</th>\n",
              "      <th>LONGITUD OESTE</th>\n",
              "      <th>ALTITUD (msnm)</th>\n",
              "      <th>INICIO</th>\n",
              "      <th>FINAL</th>\n",
              "      <th>ESTACION</th>\n",
              "    </tr>\n",
              "  </thead>\n",
              "  <tbody>\n",
              "    <tr>\n",
              "      <th>0</th>\n",
              "      <td>100633</td>\n",
              "      <td>FINCA EL PATIO. PUERTO JIMENEZ</td>\n",
              "      <td>08º 36' 04.6\"</td>\n",
              "      <td>83º25'52.2\"</td>\n",
              "      <td>24</td>\n",
              "      <td>2003-10-17</td>\n",
              "      <td>2022-12-31</td>\n",
              "      <td>100633</td>\n",
              "    </tr>\n",
              "    <tr>\n",
              "      <th>1</th>\n",
              "      <td>100641</td>\n",
              "      <td>COOPEAGROPAL. LAUREL .</td>\n",
              "      <td>08º 28' 17.6\"</td>\n",
              "      <td>82º51'38.4\"</td>\n",
              "      <td>38</td>\n",
              "      <td>2007-03-11</td>\n",
              "      <td>2022-12-31</td>\n",
              "      <td>100641</td>\n",
              "    </tr>\n",
              "    <tr>\n",
              "      <th>2</th>\n",
              "      <td>100643</td>\n",
              "      <td>RIO CLARO</td>\n",
              "      <td>08º 40' 26.5\"</td>\n",
              "      <td>83º03'43.2\"</td>\n",
              "      <td>51</td>\n",
              "      <td>2009-11-25</td>\n",
              "      <td>2022-12-31</td>\n",
              "      <td>100643</td>\n",
              "    </tr>\n",
              "    <tr>\n",
              "      <th>3</th>\n",
              "      <td>100649</td>\n",
              "      <td>FUNDACION NEOTROPICA. RINCON DE OSA</td>\n",
              "      <td>08º 42' 2.9\"</td>\n",
              "      <td>83º30'49.4\"</td>\n",
              "      <td>80</td>\n",
              "      <td>2013-01-29</td>\n",
              "      <td>2022-11-10</td>\n",
              "      <td>100649</td>\n",
              "    </tr>\n",
              "    <tr>\n",
              "      <th>4</th>\n",
              "      <td>100651</td>\n",
              "      <td>COTO 49. CIUDAD NEILY</td>\n",
              "      <td>08º 37' 52.3\"</td>\n",
              "      <td>82º58'00.7\"</td>\n",
              "      <td>30</td>\n",
              "      <td>2013-05-17</td>\n",
              "      <td>2022-12-31</td>\n",
              "      <td>100651</td>\n",
              "    </tr>\n",
              "    <tr>\n",
              "      <th>...</th>\n",
              "      <td>...</td>\n",
              "      <td>...</td>\n",
              "      <td>...</td>\n",
              "      <td>...</td>\n",
              "      <td>...</td>\n",
              "      <td>...</td>\n",
              "      <td>...</td>\n",
              "      <td>...</td>\n",
              "    </tr>\n",
              "    <tr>\n",
              "      <th>149</th>\n",
              "      <td>98095</td>\n",
              "      <td>ALTAMIRA</td>\n",
              "      <td>09º 01' 45.7\"</td>\n",
              "      <td>83º00'28.7\"</td>\n",
              "      <td>1370</td>\n",
              "      <td>2002-01-01</td>\n",
              "      <td>2022-12-31</td>\n",
              "      <td>98095</td>\n",
              "    </tr>\n",
              "    <tr>\n",
              "      <th>150</th>\n",
              "      <td>98097</td>\n",
              "      <td>MONTECARLO. PZ</td>\n",
              "      <td>09º 21' 28\"</td>\n",
              "      <td>83º36'03\"</td>\n",
              "      <td>1005</td>\n",
              "      <td>2008-06-18</td>\n",
              "      <td>2022-12-31</td>\n",
              "      <td>98097</td>\n",
              "    </tr>\n",
              "    <tr>\n",
              "      <th>151</th>\n",
              "      <td>98105</td>\n",
              "      <td>PLANTA DE VOLCAN. BUENOS AIRES</td>\n",
              "      <td>09º 12' 15\"</td>\n",
              "      <td>83º27'2.49\"</td>\n",
              "      <td>416</td>\n",
              "      <td>2013-11-22</td>\n",
              "      <td>2022-12-07</td>\n",
              "      <td>98105</td>\n",
              "    </tr>\n",
              "    <tr>\n",
              "      <th>152</th>\n",
              "      <td>98107</td>\n",
              "      <td>CAFETALERA EL INDIO. SAN VITO. PUNTARENAS</td>\n",
              "      <td>08º 49' 57.9\"</td>\n",
              "      <td>82º57'10.5\"</td>\n",
              "      <td>1027</td>\n",
              "      <td>2016-12-16</td>\n",
              "      <td>2022-11-10</td>\n",
              "      <td>98107</td>\n",
              "    </tr>\n",
              "    <tr>\n",
              "      <th>153</th>\n",
              "      <td>98109</td>\n",
              "      <td>CAFETALES GIRO. SAN VITO PUNTARENAS</td>\n",
              "      <td>08º49'05.1\"</td>\n",
              "      <td>82º58'16.4\"</td>\n",
              "      <td>1026</td>\n",
              "      <td>2017-12-09</td>\n",
              "      <td>2022-11-10</td>\n",
              "      <td>98109</td>\n",
              "    </tr>\n",
              "  </tbody>\n",
              "</table>\n",
              "<p>154 rows × 8 columns</p>\n",
              "</div>"
            ],
            "text/plain": [
              "     NUMERO                                     NOMBRE  LATITUD NORTE  \\\n",
              "0    100633            FINCA EL PATIO. PUERTO JIMENEZ   08º 36' 04.6\"   \n",
              "1    100641                     COOPEAGROPAL. LAUREL .  08º 28' 17.6\"   \n",
              "2    100643                                 RIO CLARO   08º 40' 26.5\"   \n",
              "3    100649       FUNDACION NEOTROPICA. RINCON DE OSA    08º 42' 2.9\"   \n",
              "4    100651                     COTO 49. CIUDAD NEILY   08º 37' 52.3\"   \n",
              "..      ...                                        ...            ...   \n",
              "149   98095                                  ALTAMIRA   09º 01' 45.7\"   \n",
              "150   98097                             MONTECARLO. PZ    09º 21' 28\"   \n",
              "151   98105            PLANTA DE VOLCAN. BUENOS AIRES     09º 12' 15\"   \n",
              "152   98107  CAFETALERA EL INDIO. SAN VITO. PUNTARENAS  08º 49' 57.9\"   \n",
              "153   98109        CAFETALES GIRO. SAN VITO PUNTARENAS    08º49'05.1\"   \n",
              "\n",
              "    LONGITUD OESTE ALTITUD (msnm)     INICIO         FINAL  ESTACION  \n",
              "0      83º25'52.2\"             24 2003-10-17   2022-12-31     100633  \n",
              "1      82º51'38.4\"             38 2007-03-11   2022-12-31     100641  \n",
              "2      83º03'43.2\"             51 2009-11-25   2022-12-31     100643  \n",
              "3      83º30'49.4\"             80 2013-01-29   2022-11-10     100649  \n",
              "4      82º58'00.7\"             30 2013-05-17   2022-12-31     100651  \n",
              "..             ...            ...        ...           ...       ...  \n",
              "149    83º00'28.7\"           1370 2002-01-01   2022-12-31      98095  \n",
              "150      83º36'03\"           1005 2008-06-18   2022-12-31      98097  \n",
              "151    83º27'2.49\"            416 2013-11-22   2022-12-07      98105  \n",
              "152    82º57'10.5\"           1027 2016-12-16   2022-11-10      98107  \n",
              "153    82º58'16.4\"           1026 2017-12-09   2022-11-10      98109  \n",
              "\n",
              "[154 rows x 8 columns]"
            ]
          },
          "execution_count": 282,
          "metadata": {},
          "output_type": "execute_result"
        }
      ],
      "source": [
        "estaciones"
      ]
    }
  ],
  "metadata": {
    "kernelspec": {
      "display_name": "Python 3 (ipykernel)",
      "language": "python",
      "name": "python3"
    },
    "language_info": {
      "codemirror_mode": {
        "name": "ipython",
        "version": 3
      },
      "file_extension": ".py",
      "mimetype": "text/x-python",
      "name": "python",
      "nbconvert_exporter": "python",
      "pygments_lexer": "ipython3",
      "version": "3.9.12"
    },
    "colab": {
      "provenance": [],
      "include_colab_link": true
    }
  },
  "nbformat": 4,
  "nbformat_minor": 5
}
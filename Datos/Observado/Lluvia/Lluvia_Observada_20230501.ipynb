{
  "cells": [
    {
      "cell_type": "markdown",
      "metadata": {
        "id": "view-in-github",
        "colab_type": "text"
      },
      "source": [
        "<a href=\"https://colab.research.google.com/github/yirlenarias/TFG_PD/blob/main/Datos/Observado/Lluvia/Lluvia_Observada_20230501.ipynb\" target=\"_parent\"><img src=\"https://colab.research.google.com/assets/colab-badge.svg\" alt=\"Open In Colab\"/></a>"
      ]
    },
    {
      "cell_type": "markdown",
      "id": "db410860",
      "metadata": {
        "id": "db410860"
      },
      "source": [
        "# Climatología de Lluvia Observada"
      ]
    },
    {
      "cell_type": "markdown",
      "source": [
        "* Para trabajar más cómodamente vamos a descargar todos los ficheros del repositorio GitHub\n",
        "* De esa manera dispondremos de los datos localmente para nuestro análisis."
      ],
      "metadata": {
        "id": "P96Ay7NIUtwR"
      },
      "id": "P96Ay7NIUtwR"
    },
    {
      "cell_type": "code",
      "source": [
        "# Directorio de trabajo local en la nube de Google Colab \n",
        "# ------------------------------------------------------------\n",
        "%cd /content\n",
        "\n",
        "# Si existe una copia previa del repositorio, la borramos:\n",
        "# ----------------------------------------------------------------------------\n",
        "!  rm -rf TFG_PD\n",
        "\n",
        "# Creamos una copia del repositorio SOLO si no existe previamente\n",
        "# ----------------------------------------------------------------------------\n",
        "! [ ! -d TFG_PD ] && git clone https://github.com/yirlenarias/TFG_PD.git\n",
        "\n",
        "# Entramos en el repositorio que acabamos de copiar\n",
        "# --------------------------------------------------\n",
        "%cd TFG_PD/Datos/Observado/Lluvia"
      ],
      "metadata": {
        "id": "VVslP333UsZa",
        "colab": {
          "base_uri": "https://localhost:8080/"
        },
        "outputId": "396ae152-75d7-4242-e9f1-5947b42c5db0"
      },
      "id": "VVslP333UsZa",
      "execution_count": null,
      "outputs": [
        {
          "output_type": "stream",
          "name": "stdout",
          "text": [
            "/content\n",
            "Cloning into 'TFG_PD'...\n",
            "remote: Enumerating objects: 199, done.\u001b[K\n",
            "remote: Counting objects: 100% (106/106), done.\u001b[K\n",
            "remote: Compressing objects: 100% (81/81), done.\u001b[K\n",
            "remote: Total 199 (delta 27), reused 98 (delta 25), pack-reused 93\u001b[K\n",
            "Receiving objects: 100% (199/199), 31.78 MiB | 18.36 MiB/s, done.\n",
            "Resolving deltas: 100% (42/42), done.\n",
            "/content/TFG_PD/Datos/Observado/Lluvia\n"
          ]
        }
      ]
    },
    {
      "cell_type": "markdown",
      "id": "fa09f033",
      "metadata": {
        "id": "fa09f033"
      },
      "source": [
        "## Importar librerias"
      ]
    },
    {
      "cell_type": "code",
      "execution_count": null,
      "id": "159e7b6b",
      "metadata": {
        "id": "159e7b6b"
      },
      "outputs": [],
      "source": [
        "import glob\n",
        "import pandas as pd\n",
        "import os\n",
        "import zipfile"
      ]
    },
    {
      "cell_type": "markdown",
      "id": "5ddaebbc",
      "metadata": {
        "id": "5ddaebbc"
      },
      "source": [
        "## Abrir todos los archivos excel por cuenca"
      ]
    },
    {
      "cell_type": "code",
      "execution_count": null,
      "id": "ba9f31dc",
      "metadata": {
        "id": "ba9f31dc"
      },
      "outputs": [],
      "source": [
        "# Criterios de coincidencia de patrones para archivos de Excel en el directorio\n",
        "filenames = 'Cuenca*.xlsx'"
      ]
    },
    {
      "cell_type": "code",
      "execution_count": null,
      "id": "b827e4b0",
      "metadata": {
        "id": "b827e4b0"
      },
      "outputs": [],
      "source": [
        "# Crea un diccionario vacío para almacenar los datos de cada archivo\n",
        "dat = {}\n",
        "\n",
        "# Recorra cada archivo de Excel que coincida con el patrón y lea sus datos en un marco de datos de pandas\n",
        "for file in sorted(glob.glob(filenames)):\n",
        "    dat[file] = pd.read_excel(file)"
      ]
    },
    {
      "cell_type": "code",
      "execution_count": null,
      "id": "6f7e6c15",
      "metadata": {
        "id": "6f7e6c15"
      },
      "outputs": [],
      "source": [
        "data_new = []\n",
        "\n",
        "for file, data in dat.items():\n",
        "    data_new.append(data)"
      ]
    },
    {
      "cell_type": "markdown",
      "id": "d6c300c1",
      "metadata": {
        "id": "d6c300c1"
      },
      "source": [
        "## Arreglar datos"
      ]
    },
    {
      "cell_type": "code",
      "execution_count": null,
      "id": "d215eaf4",
      "metadata": {
        "id": "d215eaf4"
      },
      "outputs": [],
      "source": [
        "# Definir una función para aplicar a los datos y en la columna 'ESTACION' todos los valores tengan 3 digitos\n",
        "for i, df in enumerate(data_new):\n",
        "    def formatear_valor(valor):\n",
        "        if valor < 10:\n",
        "            return '00' + str(valor)\n",
        "        elif valor < 100:\n",
        "            return '0' + str(valor)\n",
        "        else:\n",
        "            return str(valor)\n",
        "\n",
        "    # Aplicar la función a la tabla\n",
        "    data_new[i]['ESTACION'] = data_new[i]['ESTACION'].apply(formatear_valor)"
      ]
    },
    {
      "cell_type": "code",
      "execution_count": null,
      "id": "c15a5475",
      "metadata": {
        "id": "c15a5475"
      },
      "outputs": [],
      "source": [
        "#Unir el numero de 'CUENCA' con 'ESTACION' para tener el numero de cada estacion\n",
        "for i, df in enumerate(data_new):\n",
        "    data_new[i]['ESTACION_NEW'] = data_new[i]['CUENCA'].astype(str) + data_new[i]['ESTACION'].astype(str)"
      ]
    },
    {
      "cell_type": "code",
      "execution_count": null,
      "id": "13e68e77",
      "metadata": {
        "id": "13e68e77"
      },
      "outputs": [],
      "source": [
        "#Eliminar las columnas que no son necesarias\n",
        "for i, df in enumerate(data_new):\n",
        "    data_new[i].pop('CUENCA')\n",
        "    data_new[i].pop('ESTACION')"
      ]
    },
    {
      "cell_type": "code",
      "execution_count": null,
      "id": "1c20085c",
      "metadata": {
        "id": "1c20085c",
        "outputId": "b7fead2d-1965-4097-b581-bc6b0717c9de",
        "colab": {
          "base_uri": "https://localhost:8080/"
        }
      },
      "outputs": [
        {
          "output_type": "execute_result",
          "data": {
            "text/plain": [
              "22"
            ]
          },
          "metadata": {},
          "execution_count": 22
        }
      ],
      "source": [
        "len(data_new)"
      ]
    },
    {
      "cell_type": "markdown",
      "id": "1970d80d",
      "metadata": {
        "id": "1970d80d"
      },
      "source": [
        "## Agrupar datos por estación"
      ]
    },
    {
      "cell_type": "code",
      "execution_count": null,
      "id": "87ff882b",
      "metadata": {
        "id": "87ff882b"
      },
      "outputs": [],
      "source": [
        "# Agrupar las filas según los valores de la columna \"ESTACION_NEW\"\n",
        "my_list = list(range(0, 22))\n",
        "porestacion=[]\n",
        "for i in my_list:\n",
        "    grupos = data_new[i].groupby('ESTACION_NEW')\n",
        "\n",
        "    # Crear una tabla separada para cada grupo segun 'ESTACION_NEW'\n",
        "    for ESTACION, grupo in grupos:\n",
        "        # Obtener el DataFrame correspondiente a cada grupo\n",
        "        tabla = grupos.get_group(ESTACION)\n",
        "        porestacion.append(tabla) #Adjuntar los valores"
      ]
    },
    {
      "cell_type": "markdown",
      "id": "3cd5d1ba",
      "metadata": {
        "id": "3cd5d1ba"
      },
      "source": [
        "* Obtener el número de cada estación"
      ]
    },
    {
      "cell_type": "code",
      "execution_count": null,
      "id": "b62f230e",
      "metadata": {
        "id": "b62f230e"
      },
      "outputs": [],
      "source": [
        "NUMERO = porestacion.copy()\n",
        "for i, df in enumerate(NUMERO):\n",
        "    NUMERO[i] = NUMERO[i].iloc[0,2]"
      ]
    },
    {
      "cell_type": "markdown",
      "id": "d3567012",
      "metadata": {
        "id": "d3567012"
      },
      "source": [
        "## Guardar un archivo por cada estación"
      ]
    },
    {
      "cell_type": "code",
      "execution_count": null,
      "id": "c4087708",
      "metadata": {
        "id": "c4087708"
      },
      "outputs": [],
      "source": [
        "# Comprimimos los archivos en un archivo ZIP\n",
        "with zipfile.ZipFile('archivos_excel.zip', 'w') as zip_file:\n",
        "\n",
        "    # Iteramos sobre las tablas y los nombres de archivos\n",
        "    for tabla, nombre_archivo in zip(porestacion, NUMERO):\n",
        "\n",
        "        # Agregamos la extensión .xlsx al nombre del archivo\n",
        "        nombre_archivo += '.xlsx'\n",
        "\n",
        "        # Guardamos la tabla en un archivo Excel con el nombre correspondiente\n",
        "        tabla.to_excel(nombre_archivo, index=False)\n",
        "\n",
        "        # Agregamos el archivo al archivo ZIP\n",
        "        zip_file.write(nombre_archivo)\n",
        "\n",
        "        # Borramos el archivo Excel\n",
        "        os.remove(nombre_archivo)"
      ]
    },
    {
      "cell_type": "markdown",
      "id": "fb6a8afc",
      "metadata": {
        "id": "fb6a8afc"
      },
      "source": [
        "## Obtener fecha inicial y final de cada estación"
      ]
    },
    {
      "cell_type": "code",
      "execution_count": null,
      "id": "99a2df1e",
      "metadata": {
        "id": "99a2df1e"
      },
      "outputs": [],
      "source": [
        "for i, df in enumerate(porestacion):\n",
        "    porestacion[i] = porestacion[i].set_index('FECHA')"
      ]
    },
    {
      "cell_type": "code",
      "execution_count": null,
      "id": "969d3edd",
      "metadata": {
        "id": "969d3edd"
      },
      "outputs": [],
      "source": [
        "# Encontrar los valores de inicio y final de las fechas\n",
        "my_list = list(range(0, 154))\n",
        "porestacion_new=[]\n",
        "for i in my_list:\n",
        "    fecha_inicial = porestacion[i].index.min()\n",
        "    fecha_final = porestacion[i].index.max()\n",
        "    name = NUMERO[i]\n",
        "    porestacion_new.append((fecha_inicial,fecha_final, name))"
      ]
    },
    {
      "cell_type": "markdown",
      "id": "ef444bc7",
      "metadata": {
        "id": "ef444bc7"
      },
      "source": [
        "* Guardar el rango de fechas en un archivo .txt"
      ]
    },
    {
      "cell_type": "code",
      "execution_count": null,
      "id": "8cd2db21",
      "metadata": {
        "id": "8cd2db21"
      },
      "outputs": [],
      "source": [
        "# Abrir el archivo en modo escritura\n",
        "with open(\"rango_fechas.txt\", \"w\") as archivo:\n",
        "    # Escribir la lista en el archivo\n",
        "    for valor in porestacion_new:\n",
        "        archivo.write(str(valor) + \"\\n\")"
      ]
    },
    {
      "cell_type": "markdown",
      "id": "35f03e41",
      "metadata": {
        "id": "35f03e41"
      },
      "source": [
        "## Obtener los estadisticos\n",
        "\n",
        "* (media, mediana, máximo y mínimo)"
      ]
    },
    {
      "cell_type": "code",
      "execution_count": null,
      "id": "507beb07",
      "metadata": {
        "id": "507beb07"
      },
      "outputs": [],
      "source": [
        "#Eliminar las columnas que no se necesitan\n",
        "for i, df in enumerate(data_new):\n",
        "    porestacion[i].pop('ESTACION_NEW')"
      ]
    },
    {
      "cell_type": "code",
      "execution_count": null,
      "id": "3ba1e9de",
      "metadata": {
        "id": "3ba1e9de"
      },
      "outputs": [],
      "source": [
        "#Obtener el promedio diario\n",
        "porestacion_mean = []\n",
        "porestacion_median = []\n",
        "porestacion_max = []\n",
        "porestacion_min = []\n",
        "for i, df in enumerate(porestacion):\n",
        "    media = porestacion[i].groupby(porestacion[i].index.strftime(\"%m%d\")).mean()\n",
        "    mediana = porestacion[i].groupby(porestacion[i].index.strftime(\"%m%d\")).median()\n",
        "    maximo = porestacion[i].groupby(porestacion[i].index.strftime(\"%m%d\")).max()\n",
        "    minimo = porestacion[i].groupby(porestacion[i].index.strftime(\"%m%d\")).min()\n",
        "    #groupby() se usa agrupando por mes y por día a la vez\n",
        "    porestacion_mean.append(media)\n",
        "    porestacion_median.append(mediana)\n",
        "    porestacion_max.append(maximo)\n",
        "    porestacion_min.append(minimo)"
      ]
    },
    {
      "cell_type": "markdown",
      "id": "95129648",
      "metadata": {
        "id": "95129648"
      },
      "source": [
        "* Crear una lista con los estadisticos"
      ]
    },
    {
      "cell_type": "code",
      "execution_count": null,
      "id": "944bd209",
      "metadata": {
        "id": "944bd209"
      },
      "outputs": [],
      "source": [
        "#Crear una lista vacía llamada lista_de_listas_de_tablas\n",
        "lista_de_listas_de_tablas = []\n",
        "\n",
        "# Agregar las dos listas de tablas a la lista_de_listas_de_tablas\n",
        "lista_de_listas_de_tablas.append(porestacion_mean)\n",
        "lista_de_listas_de_tablas.append(porestacion_median)\n",
        "lista_de_listas_de_tablas.append(porestacion_max)\n",
        "lista_de_listas_de_tablas.append(porestacion_min)"
      ]
    },
    {
      "cell_type": "markdown",
      "id": "dcb0cc43",
      "metadata": {
        "id": "dcb0cc43"
      },
      "source": [
        "* Seleccionar solo la columna que interesa"
      ]
    },
    {
      "cell_type": "code",
      "execution_count": null,
      "id": "1d99bc80",
      "metadata": {
        "id": "1d99bc80"
      },
      "outputs": [],
      "source": [
        "# Lista de listas de las columnas seleccionadas\n",
        "lista_de_columnas_seleccionadas = []\n",
        "\n",
        "# Iterar a través de cada lista de tablas en lista_de_listas_de_tablas\n",
        "for lista in lista_de_listas_de_tablas:\n",
        "    # Crear una lista para almacenar las columnas de 'Nombre' de cada tabla en la lista actual\n",
        "    columnas_de_nombre = []\n",
        "    # Iterar a través de cada DataFrame en la lista actual\n",
        "    for tabla in lista:\n",
        "        # Seleccionar la columna 'Nombre' de cada tabla y agregarla a la lista de columnas\n",
        "        columna = tabla['LLUVIA_DIARIA']\n",
        "        columnas_de_nombre.append(columna)\n",
        "    # Agregar la lista de columnas de 'Nombre' de la lista actual a la lista de columnas seleccionadas\n",
        "    lista_de_columnas_seleccionadas.append(columnas_de_nombre)"
      ]
    },
    {
      "cell_type": "markdown",
      "id": "b8c9a1c4",
      "metadata": {
        "id": "b8c9a1c4"
      },
      "source": [
        "* Convertir en dataframe cada lista de estaciones"
      ]
    },
    {
      "cell_type": "code",
      "execution_count": null,
      "id": "a483c0eb",
      "metadata": {
        "id": "a483c0eb"
      },
      "outputs": [],
      "source": [
        "# Lista de DataFrames individuales\n",
        "lista_de_dataframes = []\n",
        "\n",
        "# Iterar sobre cada lista y convertirla en un DataFrame individual\n",
        "for lista in lista_de_columnas_seleccionadas:\n",
        "    df = pd.DataFrame(lista)\n",
        "    lista_de_dataframes.append(df)"
      ]
    },
    {
      "cell_type": "markdown",
      "id": "0f8421d0",
      "metadata": {
        "id": "0f8421d0"
      },
      "source": [
        "* Transponer cada dataframe de estaciones"
      ]
    },
    {
      "cell_type": "code",
      "execution_count": null,
      "id": "f573c4e2",
      "metadata": {
        "id": "f573c4e2"
      },
      "outputs": [],
      "source": [
        "# Lista de DataFrames transpuestos\n",
        "lista_de_dataframes_transpuestos = []\n",
        "\n",
        "# Iterar sobre cada DataFrame y transponerlo\n",
        "for df in lista_de_dataframes:\n",
        "    df_transpuesto = df.transpose()\n",
        "    lista_de_dataframes_transpuestos.append(df_transpuesto)"
      ]
    },
    {
      "cell_type": "markdown",
      "id": "eb4a8ee6",
      "metadata": {
        "id": "eb4a8ee6"
      },
      "source": [
        "* Renombrar las columnas"
      ]
    },
    {
      "cell_type": "code",
      "execution_count": null,
      "id": "ef525c21",
      "metadata": {
        "id": "ef525c21"
      },
      "outputs": [],
      "source": [
        "# Cambiar los nombres de las columnas en cada DataFrame\n",
        "for df in lista_de_dataframes_transpuestos:\n",
        "    df.columns = NUMERO"
      ]
    },
    {
      "cell_type": "markdown",
      "id": "75ce14d4",
      "metadata": {
        "id": "75ce14d4"
      },
      "source": [
        "## Guardar estadisticos en excel"
      ]
    },
    {
      "cell_type": "code",
      "execution_count": null,
      "id": "96230141",
      "metadata": {
        "id": "96230141"
      },
      "outputs": [],
      "source": [
        "# Crear el objeto ExcelWriter\n",
        "writer = pd.ExcelWriter('Climatologia_Diaria_Observada_Lluvia_20230429.xlsx', engine='xlsxwriter')\n",
        "\n",
        "# Escribir los DataFrames en diferentes hojas\n",
        "lista_de_dataframes_transpuestos[0].to_excel(writer, sheet_name='mean', index=True)\n",
        "lista_de_dataframes_transpuestos[1].to_excel(writer, sheet_name='median', index=True)\n",
        "lista_de_dataframes_transpuestos[2].to_excel(writer, sheet_name='max', index=True)\n",
        "lista_de_dataframes_transpuestos[3].to_excel(writer, sheet_name='min', index=True)\n",
        "\n",
        "# Guardar el archivo Excel\n",
        "writer.save()"
      ]
    },
    {
      "cell_type": "markdown",
      "id": "deb1aa9d",
      "metadata": {
        "id": "deb1aa9d"
      },
      "source": [
        "## Abrir lista de estaciones"
      ]
    },
    {
      "cell_type": "code",
      "execution_count": null,
      "id": "d1a567a8",
      "metadata": {
        "id": "d1a567a8"
      },
      "outputs": [],
      "source": [
        "#Cargar la lista de estaciones (enviadas oor Keily) y que que contienen el rango de fechas que agregamos manualmente del .txt guardado a partir de las fechas de inicio y final\n",
        "estaciones = pd.read_excel(r'/Users/arias/OneDrive/Documentos/UCR/TFG/Datos/Observada/Lluvia/Lista de estaciones.xlsx')"
      ]
    },
    {
      "cell_type": "code",
      "execution_count": null,
      "id": "72bb394e",
      "metadata": {
        "id": "72bb394e",
        "outputId": "9d0f1477-4990-4515-e4b6-99d2718bc1ad"
      },
      "outputs": [
        {
          "data": {
            "text/html": [
              "<div>\n",
              "<style scoped>\n",
              "    .dataframe tbody tr th:only-of-type {\n",
              "        vertical-align: middle;\n",
              "    }\n",
              "\n",
              "    .dataframe tbody tr th {\n",
              "        vertical-align: top;\n",
              "    }\n",
              "\n",
              "    .dataframe thead th {\n",
              "        text-align: right;\n",
              "    }\n",
              "</style>\n",
              "<table border=\"1\" class=\"dataframe\">\n",
              "  <thead>\n",
              "    <tr style=\"text-align: right;\">\n",
              "      <th></th>\n",
              "      <th>NUMERO</th>\n",
              "      <th>NOMBRE</th>\n",
              "      <th>LATITUD NORTE</th>\n",
              "      <th>LONGITUD OESTE</th>\n",
              "      <th>ALTITUD (msnm)</th>\n",
              "      <th>INICIO</th>\n",
              "      <th>FINAL</th>\n",
              "      <th>ESTACION</th>\n",
              "    </tr>\n",
              "  </thead>\n",
              "  <tbody>\n",
              "    <tr>\n",
              "      <th>0</th>\n",
              "      <td>100633</td>\n",
              "      <td>FINCA EL PATIO. PUERTO JIMENEZ</td>\n",
              "      <td>08º 36' 04.6\"</td>\n",
              "      <td>83º25'52.2\"</td>\n",
              "      <td>24</td>\n",
              "      <td>2004-02-12</td>\n",
              "      <td>2022-12-31</td>\n",
              "      <td>100633</td>\n",
              "    </tr>\n",
              "    <tr>\n",
              "      <th>1</th>\n",
              "      <td>100641</td>\n",
              "      <td>COOPEAGROPAL. LAUREL .</td>\n",
              "      <td>08º 28' 17.6\"</td>\n",
              "      <td>82º51'38.4\"</td>\n",
              "      <td>38</td>\n",
              "      <td>2007-03-09</td>\n",
              "      <td>2022-12-31</td>\n",
              "      <td>100641</td>\n",
              "    </tr>\n",
              "    <tr>\n",
              "      <th>2</th>\n",
              "      <td>100643</td>\n",
              "      <td>RIO CLARO</td>\n",
              "      <td>08º 40' 26.5\"</td>\n",
              "      <td>83º03'43.2\"</td>\n",
              "      <td>51</td>\n",
              "      <td>2009-12-11</td>\n",
              "      <td>2022-12-31</td>\n",
              "      <td>100643</td>\n",
              "    </tr>\n",
              "    <tr>\n",
              "      <th>3</th>\n",
              "      <td>100649</td>\n",
              "      <td>FUNDACION NEOTROPICA. RINCON DE OSA</td>\n",
              "      <td>08º 42' 2.9\"</td>\n",
              "      <td>83º30'49.4\"</td>\n",
              "      <td>80</td>\n",
              "      <td>2013-01-16</td>\n",
              "      <td>2022-11-10</td>\n",
              "      <td>100649</td>\n",
              "    </tr>\n",
              "    <tr>\n",
              "      <th>4</th>\n",
              "      <td>100651</td>\n",
              "      <td>COTO 49. CIUDAD NEILY</td>\n",
              "      <td>08º 37' 52.3\"</td>\n",
              "      <td>82º58'00.7\"</td>\n",
              "      <td>30</td>\n",
              "      <td>2013-05-16</td>\n",
              "      <td>2022-12-31</td>\n",
              "      <td>100651</td>\n",
              "    </tr>\n",
              "    <tr>\n",
              "      <th>...</th>\n",
              "      <td>...</td>\n",
              "      <td>...</td>\n",
              "      <td>...</td>\n",
              "      <td>...</td>\n",
              "      <td>...</td>\n",
              "      <td>...</td>\n",
              "      <td>...</td>\n",
              "      <td>...</td>\n",
              "    </tr>\n",
              "    <tr>\n",
              "      <th>149</th>\n",
              "      <td>98095</td>\n",
              "      <td>ALTAMIRA</td>\n",
              "      <td>09º 01' 45.7\"</td>\n",
              "      <td>83º00'28.7\"</td>\n",
              "      <td>1370</td>\n",
              "      <td>2002-01-01</td>\n",
              "      <td>2022-12-31</td>\n",
              "      <td>98095</td>\n",
              "    </tr>\n",
              "    <tr>\n",
              "      <th>150</th>\n",
              "      <td>98097</td>\n",
              "      <td>MONTECARLO. PZ</td>\n",
              "      <td>09º 21' 28\"</td>\n",
              "      <td>83º36'03\"</td>\n",
              "      <td>1005</td>\n",
              "      <td>2008-06-17</td>\n",
              "      <td>2022-12-31</td>\n",
              "      <td>98097</td>\n",
              "    </tr>\n",
              "    <tr>\n",
              "      <th>151</th>\n",
              "      <td>98105</td>\n",
              "      <td>PLANTA DE VOLCAN. BUENOS AIRES</td>\n",
              "      <td>09º 12' 15\"</td>\n",
              "      <td>83º27'2.49\"</td>\n",
              "      <td>416</td>\n",
              "      <td>2013-11-26</td>\n",
              "      <td>2022-12-07</td>\n",
              "      <td>98105</td>\n",
              "    </tr>\n",
              "    <tr>\n",
              "      <th>152</th>\n",
              "      <td>98107</td>\n",
              "      <td>CAFETALERA EL INDIO. SAN VITO. PUNTARENAS</td>\n",
              "      <td>08º 49' 57.9\"</td>\n",
              "      <td>82º57'10.5\"</td>\n",
              "      <td>1027</td>\n",
              "      <td>2016-12-15</td>\n",
              "      <td>2022-11-10</td>\n",
              "      <td>98107</td>\n",
              "    </tr>\n",
              "    <tr>\n",
              "      <th>153</th>\n",
              "      <td>98109</td>\n",
              "      <td>CAFETALES GIRO. SAN VITO PUNTARENAS</td>\n",
              "      <td>08º49'05.1\"</td>\n",
              "      <td>82º58'16.4\"</td>\n",
              "      <td>1026</td>\n",
              "      <td>2017-06-22</td>\n",
              "      <td>2022-11-10</td>\n",
              "      <td>98109</td>\n",
              "    </tr>\n",
              "  </tbody>\n",
              "</table>\n",
              "<p>154 rows × 8 columns</p>\n",
              "</div>"
            ],
            "text/plain": [
              "     NUMERO                                     NOMBRE  LATITUD NORTE  \\\n",
              "0    100633            FINCA EL PATIO. PUERTO JIMENEZ   08º 36' 04.6\"   \n",
              "1    100641                     COOPEAGROPAL. LAUREL .  08º 28' 17.6\"   \n",
              "2    100643                                 RIO CLARO   08º 40' 26.5\"   \n",
              "3    100649       FUNDACION NEOTROPICA. RINCON DE OSA    08º 42' 2.9\"   \n",
              "4    100651                     COTO 49. CIUDAD NEILY   08º 37' 52.3\"   \n",
              "..      ...                                        ...            ...   \n",
              "149   98095                                  ALTAMIRA   09º 01' 45.7\"   \n",
              "150   98097                             MONTECARLO. PZ    09º 21' 28\"   \n",
              "151   98105            PLANTA DE VOLCAN. BUENOS AIRES     09º 12' 15\"   \n",
              "152   98107  CAFETALERA EL INDIO. SAN VITO. PUNTARENAS  08º 49' 57.9\"   \n",
              "153   98109        CAFETALES GIRO. SAN VITO PUNTARENAS    08º49'05.1\"   \n",
              "\n",
              "    LONGITUD OESTE ALTITUD (msnm)     INICIO         FINAL  ESTACION  \n",
              "0      83º25'52.2\"             24 2004-02-12   2022-12-31     100633  \n",
              "1      82º51'38.4\"             38 2007-03-09   2022-12-31     100641  \n",
              "2      83º03'43.2\"             51 2009-12-11   2022-12-31     100643  \n",
              "3      83º30'49.4\"             80 2013-01-16   2022-11-10     100649  \n",
              "4      82º58'00.7\"             30 2013-05-16   2022-12-31     100651  \n",
              "..             ...            ...        ...           ...       ...  \n",
              "149    83º00'28.7\"           1370 2002-01-01   2022-12-31      98095  \n",
              "150      83º36'03\"           1005 2008-06-17   2022-12-31      98097  \n",
              "151    83º27'2.49\"            416 2013-11-26   2022-12-07      98105  \n",
              "152    82º57'10.5\"           1027 2016-12-15   2022-11-10      98107  \n",
              "153    82º58'16.4\"           1026 2017-06-22   2022-11-10      98109  \n",
              "\n",
              "[154 rows x 8 columns]"
            ]
          },
          "execution_count": 30,
          "metadata": {},
          "output_type": "execute_result"
        }
      ],
      "source": [
        "estaciones"
      ]
    },
    {
      "cell_type": "code",
      "execution_count": null,
      "id": "da0f32e5",
      "metadata": {
        "id": "da0f32e5"
      },
      "outputs": [],
      "source": [
        "# Convertir las columnas de fecha a objetos datetime\n",
        "estaciones['INICIO'] = pd.to_datetime(estaciones['INICIO'])\n",
        "estaciones['FINAL'] = pd.to_datetime(estaciones['FINAL'])"
      ]
    },
    {
      "cell_type": "code",
      "execution_count": null,
      "id": "bcc13600",
      "metadata": {
        "id": "bcc13600",
        "outputId": "229d36e4-ac80-47c3-9d9e-4a979724ef2e"
      },
      "outputs": [
        {
          "data": {
            "text/html": [
              "<div>\n",
              "<style scoped>\n",
              "    .dataframe tbody tr th:only-of-type {\n",
              "        vertical-align: middle;\n",
              "    }\n",
              "\n",
              "    .dataframe tbody tr th {\n",
              "        vertical-align: top;\n",
              "    }\n",
              "\n",
              "    .dataframe thead th {\n",
              "        text-align: right;\n",
              "    }\n",
              "</style>\n",
              "<table border=\"1\" class=\"dataframe\">\n",
              "  <thead>\n",
              "    <tr style=\"text-align: right;\">\n",
              "      <th></th>\n",
              "      <th>NUMERO</th>\n",
              "      <th>NOMBRE</th>\n",
              "      <th>LATITUD NORTE</th>\n",
              "      <th>LONGITUD OESTE</th>\n",
              "      <th>ALTITUD (msnm)</th>\n",
              "      <th>INICIO</th>\n",
              "      <th>FINAL</th>\n",
              "      <th>ESTACION</th>\n",
              "    </tr>\n",
              "  </thead>\n",
              "  <tbody>\n",
              "    <tr>\n",
              "      <th>0</th>\n",
              "      <td>100633</td>\n",
              "      <td>FINCA EL PATIO. PUERTO JIMENEZ</td>\n",
              "      <td>08º 36' 04.6\"</td>\n",
              "      <td>83º25'52.2\"</td>\n",
              "      <td>24</td>\n",
              "      <td>2004-02-12</td>\n",
              "      <td>2022-12-31</td>\n",
              "      <td>100633</td>\n",
              "    </tr>\n",
              "    <tr>\n",
              "      <th>1</th>\n",
              "      <td>100641</td>\n",
              "      <td>COOPEAGROPAL. LAUREL .</td>\n",
              "      <td>08º 28' 17.6\"</td>\n",
              "      <td>82º51'38.4\"</td>\n",
              "      <td>38</td>\n",
              "      <td>2007-03-09</td>\n",
              "      <td>2022-12-31</td>\n",
              "      <td>100641</td>\n",
              "    </tr>\n",
              "    <tr>\n",
              "      <th>2</th>\n",
              "      <td>100643</td>\n",
              "      <td>RIO CLARO</td>\n",
              "      <td>08º 40' 26.5\"</td>\n",
              "      <td>83º03'43.2\"</td>\n",
              "      <td>51</td>\n",
              "      <td>2009-12-11</td>\n",
              "      <td>2022-12-31</td>\n",
              "      <td>100643</td>\n",
              "    </tr>\n",
              "    <tr>\n",
              "      <th>7</th>\n",
              "      <td>200002</td>\n",
              "      <td>ISLA DEL COCO</td>\n",
              "      <td>05º 33' 00\"</td>\n",
              "      <td>87º03'00\"</td>\n",
              "      <td>75</td>\n",
              "      <td>2002-01-01</td>\n",
              "      <td>2017-07-11</td>\n",
              "      <td>200002</td>\n",
              "    </tr>\n",
              "    <tr>\n",
              "      <th>8</th>\n",
              "      <td>200007</td>\n",
              "      <td>ISLA SAN JOSE</td>\n",
              "      <td>10º 51' 15.40\"</td>\n",
              "      <td>85º54'34.50\"</td>\n",
              "      <td>44</td>\n",
              "      <td>2008-05-24</td>\n",
              "      <td>2019-08-15</td>\n",
              "      <td>200007</td>\n",
              "    </tr>\n",
              "    <tr>\n",
              "      <th>...</th>\n",
              "      <td>...</td>\n",
              "      <td>...</td>\n",
              "      <td>...</td>\n",
              "      <td>...</td>\n",
              "      <td>...</td>\n",
              "      <td>...</td>\n",
              "      <td>...</td>\n",
              "      <td>...</td>\n",
              "    </tr>\n",
              "    <tr>\n",
              "      <th>146</th>\n",
              "      <td>98075</td>\n",
              "      <td>LAS BRISAS. SABALITO</td>\n",
              "      <td>08º 52' 38.3\"</td>\n",
              "      <td>82º53'27.5\"</td>\n",
              "      <td>1073</td>\n",
              "      <td>2002-01-01</td>\n",
              "      <td>2022-11-10</td>\n",
              "      <td>98075</td>\n",
              "    </tr>\n",
              "    <tr>\n",
              "      <th>147</th>\n",
              "      <td>98087</td>\n",
              "      <td>PINDECO</td>\n",
              "      <td>09º 08' 49\"</td>\n",
              "      <td>83º20'06\"</td>\n",
              "      <td>397</td>\n",
              "      <td>2002-01-01</td>\n",
              "      <td>2022-12-31</td>\n",
              "      <td>98087</td>\n",
              "    </tr>\n",
              "    <tr>\n",
              "      <th>148</th>\n",
              "      <td>98091</td>\n",
              "      <td>CHIRRIPO</td>\n",
              "      <td>09º 27' 30\"</td>\n",
              "      <td>83º30'30\"</td>\n",
              "      <td>3440</td>\n",
              "      <td>2002-01-01</td>\n",
              "      <td>2022-04-18</td>\n",
              "      <td>98091</td>\n",
              "    </tr>\n",
              "    <tr>\n",
              "      <th>149</th>\n",
              "      <td>98095</td>\n",
              "      <td>ALTAMIRA</td>\n",
              "      <td>09º 01' 45.7\"</td>\n",
              "      <td>83º00'28.7\"</td>\n",
              "      <td>1370</td>\n",
              "      <td>2002-01-01</td>\n",
              "      <td>2022-12-31</td>\n",
              "      <td>98095</td>\n",
              "    </tr>\n",
              "    <tr>\n",
              "      <th>150</th>\n",
              "      <td>98097</td>\n",
              "      <td>MONTECARLO. PZ</td>\n",
              "      <td>09º 21' 28\"</td>\n",
              "      <td>83º36'03\"</td>\n",
              "      <td>1005</td>\n",
              "      <td>2008-06-17</td>\n",
              "      <td>2022-12-31</td>\n",
              "      <td>98097</td>\n",
              "    </tr>\n",
              "  </tbody>\n",
              "</table>\n",
              "<p>66 rows × 8 columns</p>\n",
              "</div>"
            ],
            "text/plain": [
              "     NUMERO                           NOMBRE   LATITUD NORTE LONGITUD OESTE  \\\n",
              "0    100633  FINCA EL PATIO. PUERTO JIMENEZ    08º 36' 04.6\"    83º25'52.2\"   \n",
              "1    100641           COOPEAGROPAL. LAUREL .   08º 28' 17.6\"    82º51'38.4\"   \n",
              "2    100643                       RIO CLARO    08º 40' 26.5\"    83º03'43.2\"   \n",
              "7    200002                   ISLA DEL COCO      05º 33' 00\"      87º03'00\"   \n",
              "8    200007                    ISLA SAN JOSE  10º 51' 15.40\"   85º54'34.50\"   \n",
              "..      ...                              ...             ...            ...   \n",
              "146   98075            LAS BRISAS. SABALITO    08º 52' 38.3\"    82º53'27.5\"   \n",
              "147   98087                         PINDECO      09º 08' 49\"      83º20'06\"   \n",
              "148   98091                        CHIRRIPO      09º 27' 30\"      83º30'30\"   \n",
              "149   98095                        ALTAMIRA    09º 01' 45.7\"    83º00'28.7\"   \n",
              "150   98097                   MONTECARLO. PZ     09º 21' 28\"      83º36'03\"   \n",
              "\n",
              "    ALTITUD (msnm)     INICIO      FINAL  ESTACION  \n",
              "0               24 2004-02-12 2022-12-31    100633  \n",
              "1               38 2007-03-09 2022-12-31    100641  \n",
              "2               51 2009-12-11 2022-12-31    100643  \n",
              "7               75 2002-01-01 2017-07-11    200002  \n",
              "8               44 2008-05-24 2019-08-15    200007  \n",
              "..             ...        ...        ...       ...  \n",
              "146           1073 2002-01-01 2022-11-10     98075  \n",
              "147            397 2002-01-01 2022-12-31     98087  \n",
              "148           3440 2002-01-01 2022-04-18     98091  \n",
              "149           1370 2002-01-01 2022-12-31     98095  \n",
              "150           1005 2008-06-17 2022-12-31     98097  \n",
              "\n",
              "[66 rows x 8 columns]"
            ]
          },
          "execution_count": 33,
          "metadata": {},
          "output_type": "execute_result"
        }
      ],
      "source": [
        "# Seleccionar filas con 10 o más años de diferencia entre A y B\n",
        "df_10_anos = estaciones[(estaciones['FINAL'] - estaciones['INICIO']) >= pd.Timedelta('3650 days')]\n",
        "df_10_anos"
      ]
    },
    {
      "cell_type": "code",
      "execution_count": null,
      "id": "495e64ab",
      "metadata": {
        "id": "495e64ab"
      },
      "outputs": [],
      "source": [
        "# Calcular la cantidad de años en cada fila y encontrar la máxima\n",
        "estaciones['diff'] = estaciones['FINAL'].dt.year - estaciones['INICIO'].dt.year\n",
        "max_diff = estaciones['diff'].max()\n",
        "\n",
        "# Seleccionar solo las filas que tienen la cantidad máxima de años\n",
        "df_max_diff = estaciones[estaciones['diff'] == max_diff]"
      ]
    },
    {
      "cell_type": "code",
      "execution_count": null,
      "id": "ea27f5db",
      "metadata": {
        "id": "ea27f5db",
        "outputId": "dea20b99-0218-40da-dc27-0f4480b7aba6"
      },
      "outputs": [
        {
          "data": {
            "text/html": [
              "<div>\n",
              "<style scoped>\n",
              "    .dataframe tbody tr th:only-of-type {\n",
              "        vertical-align: middle;\n",
              "    }\n",
              "\n",
              "    .dataframe tbody tr th {\n",
              "        vertical-align: top;\n",
              "    }\n",
              "\n",
              "    .dataframe thead th {\n",
              "        text-align: right;\n",
              "    }\n",
              "</style>\n",
              "<table border=\"1\" class=\"dataframe\">\n",
              "  <thead>\n",
              "    <tr style=\"text-align: right;\">\n",
              "      <th></th>\n",
              "      <th>NUMERO</th>\n",
              "      <th>NOMBRE</th>\n",
              "      <th>LATITUD NORTE</th>\n",
              "      <th>LONGITUD OESTE</th>\n",
              "      <th>ALTITUD (msnm)</th>\n",
              "      <th>INICIO</th>\n",
              "      <th>FINAL</th>\n",
              "      <th>ESTACION</th>\n",
              "      <th>diff</th>\n",
              "    </tr>\n",
              "  </thead>\n",
              "  <tbody>\n",
              "    <tr>\n",
              "      <th>10</th>\n",
              "      <td>69633</td>\n",
              "      <td>COMANDO LOS CHILES</td>\n",
              "      <td>11º 01' 54\"</td>\n",
              "      <td>84º42'42\"</td>\n",
              "      <td>40</td>\n",
              "      <td>2002-01-01</td>\n",
              "      <td>2022-12-31</td>\n",
              "      <td>69633</td>\n",
              "      <td>20</td>\n",
              "    </tr>\n",
              "    <tr>\n",
              "      <th>11</th>\n",
              "      <td>69647</td>\n",
              "      <td>FINCA BRASILIA DEL ORO</td>\n",
              "      <td>10º 58' 58.9\"</td>\n",
              "      <td>85º20'50.7\"</td>\n",
              "      <td>381</td>\n",
              "      <td>2002-11-07</td>\n",
              "      <td>2022-12-31</td>\n",
              "      <td>69647</td>\n",
              "      <td>20</td>\n",
              "    </tr>\n",
              "    <tr>\n",
              "      <th>13</th>\n",
              "      <td>69679</td>\n",
              "      <td>UPALA</td>\n",
              "      <td>10º 52' 51.5\"</td>\n",
              "      <td>85º04'22.1\"</td>\n",
              "      <td>60</td>\n",
              "      <td>2002-01-01</td>\n",
              "      <td>2022-12-31</td>\n",
              "      <td>69679</td>\n",
              "      <td>20</td>\n",
              "    </tr>\n",
              "    <tr>\n",
              "      <th>14</th>\n",
              "      <td>69681</td>\n",
              "      <td>LA REBUSCA</td>\n",
              "      <td>10°28'28.3\"</td>\n",
              "      <td>83°00'32.8\"</td>\n",
              "      <td>40</td>\n",
              "      <td>2002-01-01</td>\n",
              "      <td>2022-12-31</td>\n",
              "      <td>69681</td>\n",
              "      <td>20</td>\n",
              "    </tr>\n",
              "    <tr>\n",
              "      <th>35</th>\n",
              "      <td>71015</td>\n",
              "      <td>CANTA GALLO</td>\n",
              "      <td>10°29'48.9\"</td>\n",
              "      <td>83°40'16.7\"</td>\n",
              "      <td>30</td>\n",
              "      <td>2002-01-01</td>\n",
              "      <td>2022-12-31</td>\n",
              "      <td>71015</td>\n",
              "      <td>20</td>\n",
              "    </tr>\n",
              "    <tr>\n",
              "      <th>39</th>\n",
              "      <td>72157</td>\n",
              "      <td>FINCA LA CEIBA</td>\n",
              "      <td>10º 06' 40\"</td>\n",
              "      <td>85º19'03\"</td>\n",
              "      <td>58</td>\n",
              "      <td>2002-01-01</td>\n",
              "      <td>2022-12-31</td>\n",
              "      <td>72157</td>\n",
              "      <td>20</td>\n",
              "    </tr>\n",
              "    <tr>\n",
              "      <th>40</th>\n",
              "      <td>72159</td>\n",
              "      <td>PAQUERA.</td>\n",
              "      <td>09º 49' 17\"</td>\n",
              "      <td>84º56'20\"</td>\n",
              "      <td>10</td>\n",
              "      <td>2002-10-27</td>\n",
              "      <td>2022-12-31</td>\n",
              "      <td>72159</td>\n",
              "      <td>20</td>\n",
              "    </tr>\n",
              "    <tr>\n",
              "      <th>54</th>\n",
              "      <td>73123</td>\n",
              "      <td>ITCR. CARTAGO</td>\n",
              "      <td>09º 51' 08\"</td>\n",
              "      <td>83º54'31\"</td>\n",
              "      <td>1360</td>\n",
              "      <td>2002-01-01</td>\n",
              "      <td>2022-12-31</td>\n",
              "      <td>73123</td>\n",
              "      <td>20</td>\n",
              "    </tr>\n",
              "    <tr>\n",
              "      <th>55</th>\n",
              "      <td>73129</td>\n",
              "      <td>RECOPE. OCHOMOGO</td>\n",
              "      <td>09º 53' 40.21\"</td>\n",
              "      <td>83º56'19.41\"</td>\n",
              "      <td>1546</td>\n",
              "      <td>2002-01-01</td>\n",
              "      <td>2022-06-08</td>\n",
              "      <td>73129</td>\n",
              "      <td>20</td>\n",
              "    </tr>\n",
              "    <tr>\n",
              "      <th>72</th>\n",
              "      <td>74051</td>\n",
              "      <td>AEROP. LIBERIA OESTE 07</td>\n",
              "      <td>10º 35' 20.40\"</td>\n",
              "      <td>85º33'07.70\"</td>\n",
              "      <td>89</td>\n",
              "      <td>2002-01-01</td>\n",
              "      <td>2022-12-31</td>\n",
              "      <td>74051</td>\n",
              "      <td>20</td>\n",
              "    </tr>\n",
              "    <tr>\n",
              "      <th>73</th>\n",
              "      <td>74053</td>\n",
              "      <td>SANTA CRUZ</td>\n",
              "      <td>10º 17' 07\"</td>\n",
              "      <td>85º35'30\"</td>\n",
              "      <td>40</td>\n",
              "      <td>2002-01-01</td>\n",
              "      <td>2022-12-31</td>\n",
              "      <td>74053</td>\n",
              "      <td>20</td>\n",
              "    </tr>\n",
              "    <tr>\n",
              "      <th>84</th>\n",
              "      <td>76055</td>\n",
              "      <td>HDA. MOJICA</td>\n",
              "      <td>10º 27' 09.8\"</td>\n",
              "      <td>85º09'54.6\"</td>\n",
              "      <td>43</td>\n",
              "      <td>2002-01-01</td>\n",
              "      <td>2022-12-31</td>\n",
              "      <td>76055</td>\n",
              "      <td>20</td>\n",
              "    </tr>\n",
              "    <tr>\n",
              "      <th>89</th>\n",
              "      <td>78027</td>\n",
              "      <td>PUNTARENAS</td>\n",
              "      <td>09º 58' 20\"</td>\n",
              "      <td>84º49'51.44\"</td>\n",
              "      <td>3</td>\n",
              "      <td>2002-01-01</td>\n",
              "      <td>2022-11-08</td>\n",
              "      <td>78027</td>\n",
              "      <td>20</td>\n",
              "    </tr>\n",
              "    <tr>\n",
              "      <th>94</th>\n",
              "      <td>81005</td>\n",
              "      <td>AEROP. LIMON</td>\n",
              "      <td>9°57'43.5\"</td>\n",
              "      <td>83°01'31.2\"</td>\n",
              "      <td>13</td>\n",
              "      <td>2002-01-01</td>\n",
              "      <td>2022-12-31</td>\n",
              "      <td>81005</td>\n",
              "      <td>20</td>\n",
              "    </tr>\n",
              "    <tr>\n",
              "      <th>101</th>\n",
              "      <td>84139</td>\n",
              "      <td>CIGEFI</td>\n",
              "      <td>09º 56' 11\"</td>\n",
              "      <td>84º02'43\"</td>\n",
              "      <td>1210</td>\n",
              "      <td>2002-01-01</td>\n",
              "      <td>2022-12-31</td>\n",
              "      <td>84139</td>\n",
              "      <td>20</td>\n",
              "    </tr>\n",
              "    <tr>\n",
              "      <th>102</th>\n",
              "      <td>84141</td>\n",
              "      <td>IMN. ARANJUEZ</td>\n",
              "      <td>09º 56' 16.61\"</td>\n",
              "      <td>84º04'10.83\"</td>\n",
              "      <td>1181</td>\n",
              "      <td>2002-01-01</td>\n",
              "      <td>2022-12-31</td>\n",
              "      <td>84141</td>\n",
              "      <td>20</td>\n",
              "    </tr>\n",
              "    <tr>\n",
              "      <th>105</th>\n",
              "      <td>84187</td>\n",
              "      <td>FABIO BAUDRIT</td>\n",
              "      <td>10º 00' 18\"</td>\n",
              "      <td>84º15'56\"</td>\n",
              "      <td>840</td>\n",
              "      <td>2002-01-01</td>\n",
              "      <td>2022-12-31</td>\n",
              "      <td>84187</td>\n",
              "      <td>20</td>\n",
              "    </tr>\n",
              "    <tr>\n",
              "      <th>107</th>\n",
              "      <td>84191</td>\n",
              "      <td>RECOPE. LA GARITA</td>\n",
              "      <td>10º 00' 19\"</td>\n",
              "      <td>84º17'45\"</td>\n",
              "      <td>740</td>\n",
              "      <td>2002-01-01</td>\n",
              "      <td>2022-12-31</td>\n",
              "      <td>84191</td>\n",
              "      <td>20</td>\n",
              "    </tr>\n",
              "    <tr>\n",
              "      <th>109</th>\n",
              "      <td>84197</td>\n",
              "      <td>SANTA BARBARA</td>\n",
              "      <td>10º 02' 00\"</td>\n",
              "      <td>84º09'57\"</td>\n",
              "      <td>1070</td>\n",
              "      <td>2002-01-01</td>\n",
              "      <td>2022-12-06</td>\n",
              "      <td>84197</td>\n",
              "      <td>20</td>\n",
              "    </tr>\n",
              "    <tr>\n",
              "      <th>130</th>\n",
              "      <td>85021</td>\n",
              "      <td>HITOY CERERE</td>\n",
              "      <td>9°40'23.1\"</td>\n",
              "      <td>83°01'28.4\"</td>\n",
              "      <td>170</td>\n",
              "      <td>2002-01-01</td>\n",
              "      <td>2022-11-01</td>\n",
              "      <td>85021</td>\n",
              "      <td>20</td>\n",
              "    </tr>\n",
              "    <tr>\n",
              "      <th>135</th>\n",
              "      <td>87013</td>\n",
              "      <td>SIXAOLA</td>\n",
              "      <td>09º 31' 39\"</td>\n",
              "      <td>82º38'2\"</td>\n",
              "      <td>10</td>\n",
              "      <td>2002-01-01</td>\n",
              "      <td>2022-12-31</td>\n",
              "      <td>87013</td>\n",
              "      <td>20</td>\n",
              "    </tr>\n",
              "    <tr>\n",
              "      <th>146</th>\n",
              "      <td>98075</td>\n",
              "      <td>LAS BRISAS. SABALITO</td>\n",
              "      <td>08º 52' 38.3\"</td>\n",
              "      <td>82º53'27.5\"</td>\n",
              "      <td>1073</td>\n",
              "      <td>2002-01-01</td>\n",
              "      <td>2022-11-10</td>\n",
              "      <td>98075</td>\n",
              "      <td>20</td>\n",
              "    </tr>\n",
              "    <tr>\n",
              "      <th>147</th>\n",
              "      <td>98087</td>\n",
              "      <td>PINDECO</td>\n",
              "      <td>09º 08' 49\"</td>\n",
              "      <td>83º20'06\"</td>\n",
              "      <td>397</td>\n",
              "      <td>2002-01-01</td>\n",
              "      <td>2022-12-31</td>\n",
              "      <td>98087</td>\n",
              "      <td>20</td>\n",
              "    </tr>\n",
              "    <tr>\n",
              "      <th>148</th>\n",
              "      <td>98091</td>\n",
              "      <td>CHIRRIPO</td>\n",
              "      <td>09º 27' 30\"</td>\n",
              "      <td>83º30'30\"</td>\n",
              "      <td>3440</td>\n",
              "      <td>2002-01-01</td>\n",
              "      <td>2022-04-18</td>\n",
              "      <td>98091</td>\n",
              "      <td>20</td>\n",
              "    </tr>\n",
              "    <tr>\n",
              "      <th>149</th>\n",
              "      <td>98095</td>\n",
              "      <td>ALTAMIRA</td>\n",
              "      <td>09º 01' 45.7\"</td>\n",
              "      <td>83º00'28.7\"</td>\n",
              "      <td>1370</td>\n",
              "      <td>2002-01-01</td>\n",
              "      <td>2022-12-31</td>\n",
              "      <td>98095</td>\n",
              "      <td>20</td>\n",
              "    </tr>\n",
              "  </tbody>\n",
              "</table>\n",
              "</div>"
            ],
            "text/plain": [
              "     NUMERO                    NOMBRE   LATITUD NORTE LONGITUD OESTE  \\\n",
              "10    69633        COMANDO LOS CHILES     11º 01' 54\"      84º42'42\"   \n",
              "11    69647    FINCA BRASILIA DEL ORO   10º 58' 58.9\"    85º20'50.7\"   \n",
              "13    69679                     UPALA   10º 52' 51.5\"    85º04'22.1\"   \n",
              "14    69681                LA REBUSCA    10°28'28.3\"     83°00'32.8\"   \n",
              "35    71015               CANTA GALLO     10°29'48.9\"    83°40'16.7\"   \n",
              "39    72157            FINCA LA CEIBA     10º 06' 40\"      85º19'03\"   \n",
              "40    72159                  PAQUERA.     09º 49' 17\"      84º56'20\"   \n",
              "54    73123             ITCR. CARTAGO     09º 51' 08\"      83º54'31\"   \n",
              "55    73129         RECOPE. OCHOMOGO   09º 53' 40.21\"   83º56'19.41\"   \n",
              "72    74051  AEROP. LIBERIA OESTE 07   10º 35' 20.40\"   85º33'07.70\"   \n",
              "73    74053                SANTA CRUZ     10º 17' 07\"      85º35'30\"   \n",
              "84    76055               HDA. MOJICA   10º 27' 09.8\"    85º09'54.6\"   \n",
              "89    78027                PUNTARENAS     09º 58' 20\"   84º49'51.44\"   \n",
              "94    81005              AEROP. LIMON     9°57'43.5\"     83°01'31.2\"   \n",
              "101   84139                    CIGEFI     09º 56' 11\"      84º02'43\"   \n",
              "102   84141             IMN. ARANJUEZ  09º 56' 16.61\"   84º04'10.83\"   \n",
              "105   84187             FABIO BAUDRIT     10º 00' 18\"      84º15'56\"   \n",
              "107   84191         RECOPE. LA GARITA     10º 00' 19\"      84º17'45\"   \n",
              "109   84197             SANTA BARBARA     10º 02' 00\"      84º09'57\"   \n",
              "130   85021              HITOY CERERE     9°40'23.1\"     83°01'28.4\"   \n",
              "135   87013                  SIXAOLA      09º 31' 39\"       82º38'2\"   \n",
              "146   98075     LAS BRISAS. SABALITO    08º 52' 38.3\"    82º53'27.5\"   \n",
              "147   98087                  PINDECO      09º 08' 49\"      83º20'06\"   \n",
              "148   98091                 CHIRRIPO      09º 27' 30\"      83º30'30\"   \n",
              "149   98095                 ALTAMIRA    09º 01' 45.7\"    83º00'28.7\"   \n",
              "\n",
              "    ALTITUD (msnm)     INICIO      FINAL  ESTACION  diff  \n",
              "10              40 2002-01-01 2022-12-31     69633    20  \n",
              "11             381 2002-11-07 2022-12-31     69647    20  \n",
              "13              60 2002-01-01 2022-12-31     69679    20  \n",
              "14              40 2002-01-01 2022-12-31     69681    20  \n",
              "35              30 2002-01-01 2022-12-31     71015    20  \n",
              "39              58 2002-01-01 2022-12-31     72157    20  \n",
              "40              10 2002-10-27 2022-12-31     72159    20  \n",
              "54            1360 2002-01-01 2022-12-31     73123    20  \n",
              "55            1546 2002-01-01 2022-06-08     73129    20  \n",
              "72              89 2002-01-01 2022-12-31     74051    20  \n",
              "73              40 2002-01-01 2022-12-31     74053    20  \n",
              "84              43 2002-01-01 2022-12-31     76055    20  \n",
              "89               3 2002-01-01 2022-11-08     78027    20  \n",
              "94              13 2002-01-01 2022-12-31     81005    20  \n",
              "101           1210 2002-01-01 2022-12-31     84139    20  \n",
              "102           1181 2002-01-01 2022-12-31     84141    20  \n",
              "105            840 2002-01-01 2022-12-31     84187    20  \n",
              "107            740 2002-01-01 2022-12-31     84191    20  \n",
              "109           1070 2002-01-01 2022-12-06     84197    20  \n",
              "130            170 2002-01-01 2022-11-01     85021    20  \n",
              "135             10 2002-01-01 2022-12-31     87013    20  \n",
              "146           1073 2002-01-01 2022-11-10     98075    20  \n",
              "147            397 2002-01-01 2022-12-31     98087    20  \n",
              "148           3440 2002-01-01 2022-04-18     98091    20  \n",
              "149           1370 2002-01-01 2022-12-31     98095    20  "
            ]
          },
          "execution_count": 37,
          "metadata": {},
          "output_type": "execute_result"
        }
      ],
      "source": [
        "df_max_diff"
      ]
    }
  ],
  "metadata": {
    "kernelspec": {
      "display_name": "Python 3 (ipykernel)",
      "language": "python",
      "name": "python3"
    },
    "language_info": {
      "codemirror_mode": {
        "name": "ipython",
        "version": 3
      },
      "file_extension": ".py",
      "mimetype": "text/x-python",
      "name": "python",
      "nbconvert_exporter": "python",
      "pygments_lexer": "ipython3",
      "version": "3.9.12"
    },
    "colab": {
      "provenance": [],
      "toc_visible": true,
      "include_colab_link": true
    }
  },
  "nbformat": 4,
  "nbformat_minor": 5
}